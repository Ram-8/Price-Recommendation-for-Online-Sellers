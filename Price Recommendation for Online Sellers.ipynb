{
 "cells": [
  {
   "cell_type": "code",
   "execution_count": 1,
   "id": "1e94137d",
   "metadata": {
    "execution": {
     "iopub.execute_input": "2023-04-18T16:13:46.816174Z",
     "iopub.status.busy": "2023-04-18T16:13:46.815773Z",
     "iopub.status.idle": "2023-04-18T16:13:49.692376Z",
     "shell.execute_reply": "2023-04-18T16:13:49.690918Z"
    },
    "papermill": {
     "duration": 2.892313,
     "end_time": "2023-04-18T16:13:49.696057",
     "exception": false,
     "start_time": "2023-04-18T16:13:46.803744",
     "status": "completed"
    },
    "tags": []
   },
   "outputs": [
    {
     "data": {
      "text/html": [
       "<style type='text/css'>\n",
       ".datatable table.frame { margin-bottom: 0; }\n",
       ".datatable table.frame thead { border-bottom: none; }\n",
       ".datatable table.frame tr.coltypes td {  color: #FFFFFF;  line-height: 6px;  padding: 0 0.5em;}\n",
       ".datatable .bool    { background: #DDDD99; }\n",
       ".datatable .object  { background: #565656; }\n",
       ".datatable .int     { background: #5D9E5D; }\n",
       ".datatable .float   { background: #4040CC; }\n",
       ".datatable .str     { background: #CC4040; }\n",
       ".datatable .time    { background: #40CC40; }\n",
       ".datatable .row_index {  background: var(--jp-border-color3);  border-right: 1px solid var(--jp-border-color0);  color: var(--jp-ui-font-color3);  font-size: 9px;}\n",
       ".datatable .frame tbody td { text-align: left; }\n",
       ".datatable .frame tr.coltypes .row_index {  background: var(--jp-border-color0);}\n",
       ".datatable th:nth-child(2) { padding-left: 12px; }\n",
       ".datatable .hellipsis {  color: var(--jp-cell-editor-border-color);}\n",
       ".datatable .vellipsis {  background: var(--jp-layout-color0);  color: var(--jp-cell-editor-border-color);}\n",
       ".datatable .na {  color: var(--jp-cell-editor-border-color);  font-size: 80%;}\n",
       ".datatable .sp {  opacity: 0.25;}\n",
       ".datatable .footer { font-size: 9px; }\n",
       ".datatable .frame_dimensions {  background: var(--jp-border-color3);  border-top: 1px solid var(--jp-border-color0);  color: var(--jp-ui-font-color3);  display: inline-block;  opacity: 0.6;  padding: 1px 10px 1px 5px;}\n",
       "</style>\n"
      ],
      "text/plain": [
       "<IPython.core.display.HTML object>"
      ]
     },
     "metadata": {},
     "output_type": "display_data"
    }
   ],
   "source": [
    "import numpy as np\n",
    "import pandas as pd\n",
    "import matplotlib.pyplot as plt\n",
    "import seaborn as sns\n",
    "from scipy.sparse import csr_matrix, hstack\n",
    "from sklearn.preprocessing import LabelBinarizer\n",
    "from sklearn.feature_extraction.text import CountVectorizer, TfidfVectorizer\n",
    "from sklearn.model_selection import train_test_split, cross_val_score\n",
    "from sklearn.metrics import mean_squared_error\n",
    "import lightgbm as lgb\n",
    "import gc\n",
    "import time"
   ]
  },
  {
   "cell_type": "code",
   "execution_count": 2,
   "id": "592f12f7",
   "metadata": {
    "execution": {
     "iopub.execute_input": "2023-04-18T16:13:49.716372Z",
     "iopub.status.busy": "2023-04-18T16:13:49.715943Z",
     "iopub.status.idle": "2023-04-18T16:13:49.725546Z",
     "shell.execute_reply": "2023-04-18T16:13:49.723991Z"
    },
    "papermill": {
     "duration": 0.022557,
     "end_time": "2023-04-18T16:13:49.728121",
     "exception": false,
     "start_time": "2023-04-18T16:13:49.705564",
     "status": "completed"
    },
    "tags": []
   },
   "outputs": [
    {
     "name": "stdout",
     "output_type": "stream",
     "text": [
      "/kaggle/input/mercari-price-suggestion-challenge/train.tsv.7z\n",
      "/kaggle/input/mercari-price-suggestion-challenge/test.tsv.7z\n",
      "/kaggle/input/mercari-price-suggestion-challenge/sample_submission_stg2.csv.zip\n",
      "/kaggle/input/mercari-price-suggestion-challenge/test_stg2.tsv.zip\n",
      "/kaggle/input/mercari-price-suggestion-challenge/sample_submission.csv.7z\n"
     ]
    }
   ],
   "source": [
    "import os\n",
    "for dirname, _, filenames in os.walk('/kaggle/input'):\n",
    "    for filename in filenames:\n",
    "        print(os.path.join(dirname, filename))"
   ]
  },
  {
   "cell_type": "code",
   "execution_count": 3,
   "id": "d80ff023",
   "metadata": {
    "execution": {
     "iopub.execute_input": "2023-04-18T16:13:49.749783Z",
     "iopub.status.busy": "2023-04-18T16:13:49.748789Z",
     "iopub.status.idle": "2023-04-18T16:14:14.039878Z",
     "shell.execute_reply": "2023-04-18T16:14:14.038054Z"
    },
    "papermill": {
     "duration": 24.305246,
     "end_time": "2023-04-18T16:14:14.043032",
     "exception": false,
     "start_time": "2023-04-18T16:13:49.737786",
     "status": "completed"
    },
    "tags": []
   },
   "outputs": [
    {
     "name": "stdout",
     "output_type": "stream",
     "text": [
      "\r\n",
      "\r\n",
      "\r\n",
      "p7zip is already the newest version (16.02+dfsg-7build1).\r\n",
      "p7zip set to manually installed.\r\n",
      "0 upgraded, 0 newly installed, 0 to remove and 66 not upgraded.\r\n",
      "\r\n",
      "7-Zip (a) [64] 16.02 : Copyright (c) 1999-2016 Igor Pavlov : 2016-05-21\r\n",
      "p7zip Version 16.02 (locale=C.UTF-8,Utf16=on,HugeFiles=on,64 bits,4 CPUs Intel(R) Xeon(R) CPU @ 2.20GHz (406F0),ASM,AES-NI)\r\n",
      "\r\n",
      "Scanning the drive for archives:\r\n",
      "  0M Scan /kaggle/input/mercari-price-suggestion-challenge/\b\b\b\b\b\b\b\b\b\b\b\b\b\b\b\b\b\b\b\b\b\b\b\b\b\b\b\b\b\b\b\b\b\b\b\b\b\b\b\b\b\b\b\b\b\b\b\b\b\b\b\b\b\b\b\b\b\b\b                                                           \b\b\b\b\b\b\b\b\b\b\b\b\b\b\b\b\b\b\b\b\b\b\b\b\b\b\b\b\b\b\b\b\b\b\b\b\b\b\b\b\b\b\b\b\b\b\b\b\b\b\b\b\b\b\b\b\b\b\b1 file, 77912192 bytes (75 MiB)\r\n",
      "\r\n",
      "Extracting archive: /kaggle/input/mercari-price-suggestion-challenge/train.tsv.7z\r\n",
      "--\r\n",
      "Path = /kaggle/input/mercari-price-suggestion-challenge/train.tsv.7z\r\n",
      "Type = 7z\r\n",
      "Physical Size = 77912192\r\n",
      "Headers Size = 122\r\n",
      "Method = LZMA2:24\r\n",
      "Solid = -\r\n",
      "Blocks = 1\r\n",
      "\r\n",
      "  0%\b\b\b\b    \b\b\b\b  2% - train.tsv\b\b\b\b\b\b\b\b\b\b\b\b\b\b\b\b                \b\b\b\b\b\b\b\b\b\b\b\b\b\b\b\b  6% - train.tsv\b\b\b\b\b\b\b\b\b\b\b\b\b\b\b\b                \b\b\b\b\b\b\b\b\b\b\b\b\b\b\b\b  9% - train.tsv\b\b\b\b\b\b\b\b\b\b\b\b\b\b\b\b                \b\b\b\b\b\b\b\b\b\b\b\b\b\b\b\b 11% - train.tsv\b\b\b\b\b\b\b\b\b\b\b\b\b\b\b\b                \b\b\b\b\b\b\b\b\b\b\b\b\b\b\b\b 14% - train.tsv\b\b\b\b\b\b\b\b\b\b\b\b\b\b\b\b                \b\b\b\b\b\b\b\b\b\b\b\b\b\b\b\b 18% - train.tsv\b\b\b\b\b\b\b\b\b\b\b\b\b\b\b\b                \b\b\b\b\b\b\b\b\b\b\b\b\b\b\b\b 21% - train.tsv\b\b\b\b\b\b\b\b\b\b\b\b\b\b\b\b                \b\b\b\b\b\b\b\b\b\b\b\b\b\b\b\b 23% - train.tsv\b\b\b\b\b\b\b\b\b\b\b\b\b\b\b\b                \b\b\b\b\b\b\b\b\b\b\b\b\b\b\b\b 26% - train.tsv\b\b\b\b\b\b\b\b\b\b\b\b\b\b\b\b                \b\b\b\b\b\b\b\b\b\b\b\b\b\b\b\b 29% - train.tsv\b\b\b\b\b\b\b\b\b\b\b\b\b\b\b\b                \b\b\b\b\b\b\b\b\b\b\b\b\b\b\b\b 33% - train.tsv\b\b\b\b\b\b\b\b\b\b\b\b\b\b\b\b                \b\b\b\b\b\b\b\b\b\b\b\b\b\b\b\b 36% - train.tsv\b\b\b\b\b\b\b\b\b\b\b\b\b\b\b\b                \b\b\b\b\b\b\b\b\b\b\b\b\b\b\b\b 39% - train.tsv\b\b\b\b\b\b\b\b\b\b\b\b\b\b\b\b                \b\b\b\b\b\b\b\b\b\b\b\b\b\b\b\b 42% - train.tsv\b\b\b\b\b\b\b\b\b\b\b\b\b\b\b\b                \b\b\b\b\b\b\b\b\b\b\b\b\b\b\b\b 45% - train.tsv\b\b\b\b\b\b\b\b\b\b\b\b\b\b\b\b                \b\b\b\b\b\b\b\b\b\b\b\b\b\b\b\b 48% - train.tsv\b\b\b\b\b\b\b\b\b\b\b\b\b\b\b\b                \b\b\b\b\b\b\b\b\b\b\b\b\b\b\b\b 52% - train.tsv\b\b\b\b\b\b\b\b\b\b\b\b\b\b\b\b                \b\b\b\b\b\b\b\b\b\b\b\b\b\b\b\b 55% - train.tsv\b\b\b\b\b\b\b\b\b\b\b\b\b\b\b\b                \b\b\b\b\b\b\b\b\b\b\b\b\b\b\b\b 58% - train.tsv\b\b\b\b\b\b\b\b\b\b\b\b\b\b\b\b                \b\b\b\b\b\b\b\b\b\b\b\b\b\b\b\b 61% - train.tsv\b\b\b\b\b\b\b\b\b\b\b\b\b\b\b\b                \b\b\b\b\b\b\b\b\b\b\b\b\b\b\b\b 64% - train.tsv\b\b\b\b\b\b\b\b\b\b\b\b\b\b\b\b                \b\b\b\b\b\b\b\b\b\b\b\b\b\b\b\b 68% - train.tsv\b\b\b\b\b\b\b\b\b\b\b\b\b\b\b\b                \b\b\b\b\b\b\b\b\b\b\b\b\b\b\b\b 71% - train.tsv\b\b\b\b\b\b\b\b\b\b\b\b\b\b\b\b                \b\b\b\b\b\b\b\b\b\b\b\b\b\b\b\b 73% - train.tsv\b\b\b\b\b\b\b\b\b\b\b\b\b\b\b\b                \b\b\b\b\b\b\b\b\b\b\b\b\b\b\b\b 76% - train.tsv\b\b\b\b\b\b\b\b\b\b\b\b\b\b\b\b                \b\b\b\b\b\b\b\b\b\b\b\b\b\b\b\b 79% - train.tsv\b\b\b\b\b\b\b\b\b\b\b\b\b\b\b\b                \b\b\b\b\b\b\b\b\b\b\b\b\b\b\b\b 81% - train.tsv\b\b\b\b\b\b\b\b\b\b\b\b\b\b\b\b                \b\b\b\b\b\b\b\b\b\b\b\b\b\b\b\b 85% - train.tsv\b\b\b\b\b\b\b\b\b\b\b\b\b\b\b\b                \b\b\b\b\b\b\b\b\b\b\b\b\b\b\b\b 88% - train.tsv\b\b\b\b\b\b\b\b\b\b\b\b\b\b\b\b                \b\b\b\b\b\b\b\b\b\b\b\b\b\b\b\b 91% - train.tsv\b\b\b\b\b\b\b\b\b\b\b\b\b\b\b\b                \b\b\b\b\b\b\b\b\b\b\b\b\b\b\b\b 95% - train.tsv\b\b\b\b\b\b\b\b\b\b\b\b\b\b\b\b                \b\b\b\b\b\b\b\b\b\b\b\b\b\b\b\b 98% - train.tsv\b\b\b\b\b\b\b\b\b\b\b\b\b\b\b\b                \b\b\b\b\b\b\b\b\b\b\b\b\b\b\b\bEverything is Ok\r\n",
      "\r\n",
      "Size:       337809843\r\n",
      "Compressed: 77912192\r\n",
      "Archive:  /kaggle/input/mercari-price-suggestion-challenge/sample_submission_stg2.csv.zip\r\n",
      "  inflating: sample_submission_stg2.csv  \r\n",
      "Archive:  /kaggle/input/mercari-price-suggestion-challenge/test_stg2.tsv.zip\r\n",
      "  inflating: test_stg2.tsv           \r\n"
     ]
    }
   ],
   "source": [
    "!apt-get install p7zip\n",
    "!p7zip -d -f -k /kaggle/input/mercari-price-suggestion-challenge/train.tsv.7z\n",
    "!unzip -o /kaggle/input/mercari-price-suggestion-challenge/sample_submission_stg2.csv.zip\n",
    "!unzip -o /kaggle/input/mercari-price-suggestion-challenge/test_stg2.tsv.zip"
   ]
  },
  {
   "cell_type": "code",
   "execution_count": 4,
   "id": "e9da8d9f",
   "metadata": {
    "execution": {
     "iopub.execute_input": "2023-04-18T16:14:14.071885Z",
     "iopub.status.busy": "2023-04-18T16:14:14.071359Z",
     "iopub.status.idle": "2023-04-18T16:14:21.249238Z",
     "shell.execute_reply": "2023-04-18T16:14:21.247900Z"
    },
    "papermill": {
     "duration": 7.196729,
     "end_time": "2023-04-18T16:14:21.252428",
     "exception": false,
     "start_time": "2023-04-18T16:14:14.055699",
     "status": "completed"
    },
    "tags": []
   },
   "outputs": [],
   "source": [
    "df = pd.read_csv(\"train.tsv\", low_memory=False, sep='\\t')"
   ]
  },
  {
   "cell_type": "code",
   "execution_count": 5,
   "id": "836f1c0f",
   "metadata": {
    "execution": {
     "iopub.execute_input": "2023-04-18T16:14:21.281290Z",
     "iopub.status.busy": "2023-04-18T16:14:21.280048Z",
     "iopub.status.idle": "2023-04-18T16:14:21.313785Z",
     "shell.execute_reply": "2023-04-18T16:14:21.312439Z"
    },
    "papermill": {
     "duration": 0.050421,
     "end_time": "2023-04-18T16:14:21.316377",
     "exception": false,
     "start_time": "2023-04-18T16:14:21.265956",
     "status": "completed"
    },
    "tags": []
   },
   "outputs": [
    {
     "data": {
      "text/html": [
       "<div>\n",
       "<style scoped>\n",
       "    .dataframe tbody tr th:only-of-type {\n",
       "        vertical-align: middle;\n",
       "    }\n",
       "\n",
       "    .dataframe tbody tr th {\n",
       "        vertical-align: top;\n",
       "    }\n",
       "\n",
       "    .dataframe thead th {\n",
       "        text-align: right;\n",
       "    }\n",
       "</style>\n",
       "<table border=\"1\" class=\"dataframe\">\n",
       "  <thead>\n",
       "    <tr style=\"text-align: right;\">\n",
       "      <th></th>\n",
       "      <th>train_id</th>\n",
       "      <th>name</th>\n",
       "      <th>item_condition_id</th>\n",
       "      <th>category_name</th>\n",
       "      <th>brand_name</th>\n",
       "      <th>price</th>\n",
       "      <th>shipping</th>\n",
       "      <th>item_description</th>\n",
       "    </tr>\n",
       "  </thead>\n",
       "  <tbody>\n",
       "    <tr>\n",
       "      <th>0</th>\n",
       "      <td>0</td>\n",
       "      <td>MLB Cincinnati Reds T Shirt Size XL</td>\n",
       "      <td>3</td>\n",
       "      <td>Men/Tops/T-shirts</td>\n",
       "      <td>NaN</td>\n",
       "      <td>10.0</td>\n",
       "      <td>1</td>\n",
       "      <td>No description yet</td>\n",
       "    </tr>\n",
       "    <tr>\n",
       "      <th>1</th>\n",
       "      <td>1</td>\n",
       "      <td>Razer BlackWidow Chroma Keyboard</td>\n",
       "      <td>3</td>\n",
       "      <td>Electronics/Computers &amp; Tablets/Components &amp; P...</td>\n",
       "      <td>Razer</td>\n",
       "      <td>52.0</td>\n",
       "      <td>0</td>\n",
       "      <td>This keyboard is in great condition and works ...</td>\n",
       "    </tr>\n",
       "    <tr>\n",
       "      <th>2</th>\n",
       "      <td>2</td>\n",
       "      <td>AVA-VIV Blouse</td>\n",
       "      <td>1</td>\n",
       "      <td>Women/Tops &amp; Blouses/Blouse</td>\n",
       "      <td>Target</td>\n",
       "      <td>10.0</td>\n",
       "      <td>1</td>\n",
       "      <td>Adorable top with a hint of lace and a key hol...</td>\n",
       "    </tr>\n",
       "    <tr>\n",
       "      <th>3</th>\n",
       "      <td>3</td>\n",
       "      <td>Leather Horse Statues</td>\n",
       "      <td>1</td>\n",
       "      <td>Home/Home Décor/Home Décor Accents</td>\n",
       "      <td>NaN</td>\n",
       "      <td>35.0</td>\n",
       "      <td>1</td>\n",
       "      <td>New with tags. Leather horses. Retail for [rm]...</td>\n",
       "    </tr>\n",
       "    <tr>\n",
       "      <th>4</th>\n",
       "      <td>4</td>\n",
       "      <td>24K GOLD plated rose</td>\n",
       "      <td>1</td>\n",
       "      <td>Women/Jewelry/Necklaces</td>\n",
       "      <td>NaN</td>\n",
       "      <td>44.0</td>\n",
       "      <td>0</td>\n",
       "      <td>Complete with certificate of authenticity</td>\n",
       "    </tr>\n",
       "  </tbody>\n",
       "</table>\n",
       "</div>"
      ],
      "text/plain": [
       "   train_id                                 name  item_condition_id  \\\n",
       "0         0  MLB Cincinnati Reds T Shirt Size XL                  3   \n",
       "1         1     Razer BlackWidow Chroma Keyboard                  3   \n",
       "2         2                       AVA-VIV Blouse                  1   \n",
       "3         3                Leather Horse Statues                  1   \n",
       "4         4                 24K GOLD plated rose                  1   \n",
       "\n",
       "                                       category_name brand_name  price  \\\n",
       "0                                  Men/Tops/T-shirts        NaN   10.0   \n",
       "1  Electronics/Computers & Tablets/Components & P...      Razer   52.0   \n",
       "2                        Women/Tops & Blouses/Blouse     Target   10.0   \n",
       "3                 Home/Home Décor/Home Décor Accents        NaN   35.0   \n",
       "4                            Women/Jewelry/Necklaces        NaN   44.0   \n",
       "\n",
       "   shipping                                   item_description  \n",
       "0         1                                 No description yet  \n",
       "1         0  This keyboard is in great condition and works ...  \n",
       "2         1  Adorable top with a hint of lace and a key hol...  \n",
       "3         1  New with tags. Leather horses. Retail for [rm]...  \n",
       "4         0          Complete with certificate of authenticity  "
      ]
     },
     "execution_count": 5,
     "metadata": {},
     "output_type": "execute_result"
    }
   ],
   "source": [
    "df.head()"
   ]
  },
  {
   "cell_type": "code",
   "execution_count": 6,
   "id": "3be32f91",
   "metadata": {
    "execution": {
     "iopub.execute_input": "2023-04-18T16:14:21.345868Z",
     "iopub.status.busy": "2023-04-18T16:14:21.345424Z",
     "iopub.status.idle": "2023-04-18T16:14:22.227060Z",
     "shell.execute_reply": "2023-04-18T16:14:22.225694Z"
    },
    "papermill": {
     "duration": 0.899096,
     "end_time": "2023-04-18T16:14:22.229759",
     "exception": false,
     "start_time": "2023-04-18T16:14:21.330663",
     "status": "completed"
    },
    "tags": []
   },
   "outputs": [
    {
     "data": {
      "text/plain": [
       "((1186028, 8), (296507, 8))"
      ]
     },
     "execution_count": 6,
     "metadata": {},
     "output_type": "execute_result"
    }
   ],
   "source": [
    "train, test = train_test_split(df, test_size=0.2, random_state=42)\n",
    "train.shape, test.shape"
   ]
  },
  {
   "cell_type": "code",
   "execution_count": 7,
   "id": "9d7a8dcc",
   "metadata": {
    "execution": {
     "iopub.execute_input": "2023-04-18T16:14:22.258659Z",
     "iopub.status.busy": "2023-04-18T16:14:22.257859Z",
     "iopub.status.idle": "2023-04-18T16:14:23.287363Z",
     "shell.execute_reply": "2023-04-18T16:14:23.286005Z"
    },
    "papermill": {
     "duration": 1.047916,
     "end_time": "2023-04-18T16:14:23.290494",
     "exception": false,
     "start_time": "2023-04-18T16:14:22.242578",
     "status": "completed"
    },
    "tags": []
   },
   "outputs": [
    {
     "data": {
      "text/plain": [
       "Text(0.5, 1.0, 'Price Distribution')"
      ]
     },
     "execution_count": 7,
     "metadata": {},
     "output_type": "execute_result"
    },
    {
     "data": {
      "image/png": "[encoded data removed]",
      "text/plain": [
       "<Figure size 1200x600 with 2 Axes>"
      ]
     },
     "metadata": {},
     "output_type": "display_data"
    }
   ],
   "source": [
    "plt.subplot(1,2,1)\n",
    "(train['price']).plot.hist(bins=50, figsize=(12, 6), edgecolor = 'white', range= [0,200])\n",
    "plt.xlabel('Price', fontsize=12)\n",
    "plt.title('Price Distribution', fontsize=12)\n",
    "plt.subplot(1,2,2)\n",
    "np.log(train['price']+1).plot.hist(bins=50, figsize=(12, 6), edgecolor = 'white')\n",
    "plt.xlabel('log(Price)+1', fontsize=12)\n",
    "plt.title('Price Distribution', fontsize=12)"
   ]
  },
  {
   "cell_type": "code",
   "execution_count": 8,
   "id": "08d4c83c",
   "metadata": {
    "execution": {
     "iopub.execute_input": "2023-04-18T16:14:23.324370Z",
     "iopub.status.busy": "2023-04-18T16:14:23.323932Z",
     "iopub.status.idle": "2023-04-18T16:14:23.344468Z",
     "shell.execute_reply": "2023-04-18T16:14:23.343288Z"
    },
    "papermill": {
     "duration": 0.039862,
     "end_time": "2023-04-18T16:14:23.347170",
     "exception": false,
     "start_time": "2023-04-18T16:14:23.307308",
     "status": "completed"
    },
    "tags": []
   },
   "outputs": [
    {
     "data": {
      "text/plain": [
       "0    55.28318\n",
       "1    44.71682\n",
       "Name: shipping, dtype: float64"
      ]
     },
     "execution_count": 8,
     "metadata": {},
     "output_type": "execute_result"
    }
   ],
   "source": [
    "train['shipping'].value_counts()/len(train) *100"
   ]
  },
  {
   "cell_type": "code",
   "execution_count": 9,
   "id": "c96bb316",
   "metadata": {
    "execution": {
     "iopub.execute_input": "2023-04-18T16:14:23.377034Z",
     "iopub.status.busy": "2023-04-18T16:14:23.376023Z",
     "iopub.status.idle": "2023-04-18T16:14:23.491974Z",
     "shell.execute_reply": "2023-04-18T16:14:23.490441Z"
    },
    "papermill": {
     "duration": 0.133933,
     "end_time": "2023-04-18T16:14:23.494716",
     "exception": false,
     "start_time": "2023-04-18T16:14:23.360783",
     "status": "completed"
    },
    "tags": []
   },
   "outputs": [
    {
     "name": "stdout",
     "output_type": "stream",
     "text": [
      "The avg. Price is 22.53 when seller pays the shipping\n",
      "The avg. Price is 30.07 when buyer pays the shipping\n"
     ]
    }
   ],
   "source": [
    "fee_buyer = train.loc[df['shipping'] ==0, 'price']\n",
    "fee_seller = train.loc[df['shipping']==1, 'price']\n",
    "print(\"The avg. Price is {}\".format(round(fee_seller.mean(), 2)), \"when seller pays the shipping\");\n",
    "print(\"The avg. Price is {}\".format(round(fee_buyer.mean(), 2)), \"when buyer pays the shipping\")"
   ]
  },
  {
   "cell_type": "code",
   "execution_count": 10,
   "id": "3562c812",
   "metadata": {
    "execution": {
     "iopub.execute_input": "2023-04-18T16:14:23.524862Z",
     "iopub.status.busy": "2023-04-18T16:14:23.524023Z",
     "iopub.status.idle": "2023-04-18T16:14:23.542912Z",
     "shell.execute_reply": "2023-04-18T16:14:23.541589Z"
    },
    "papermill": {
     "duration": 0.037191,
     "end_time": "2023-04-18T16:14:23.545802",
     "exception": false,
     "start_time": "2023-04-18T16:14:23.508611",
     "status": "completed"
    },
    "tags": []
   },
   "outputs": [
    {
     "data": {
      "text/plain": [
       "array([3, 1, 2, 4, 5])"
      ]
     },
     "execution_count": 10,
     "metadata": {},
     "output_type": "execute_result"
    }
   ],
   "source": [
    "train['item_condition_id'].unique()"
   ]
  },
  {
   "cell_type": "code",
   "execution_count": 11,
   "id": "4cf1df5e",
   "metadata": {
    "execution": {
     "iopub.execute_input": "2023-04-18T16:14:23.576041Z",
     "iopub.status.busy": "2023-04-18T16:14:23.575655Z",
     "iopub.status.idle": "2023-04-18T16:14:24.587474Z",
     "shell.execute_reply": "2023-04-18T16:14:24.586158Z"
    },
    "papermill": {
     "duration": 1.031109,
     "end_time": "2023-04-18T16:14:24.590714",
     "exception": false,
     "start_time": "2023-04-18T16:14:23.559605",
     "status": "completed"
    },
    "tags": []
   },
   "outputs": [
    {
     "data": {
      "text/plain": [
       "<AxesSubplot:xlabel='item_condition_id', ylabel='price'>"
      ]
     },
     "execution_count": 11,
     "metadata": {},
     "output_type": "execute_result"
    },
    {
     "data": {
      "image/png": "[encoded data removed]",
      "text/plain": [
       "<Figure size 640x480 with 1 Axes>"
      ]
     },
     "metadata": {},
     "output_type": "display_data"
    }
   ],
   "source": [
    "sns.boxplot(x = 'item_condition_id', y =np.log(train['price']+1), data = train, palette = sns.color_palette('RdBu',5))"
   ]
  },
  {
   "cell_type": "code",
   "execution_count": 12,
   "id": "01f2eeb0",
   "metadata": {
    "execution": {
     "iopub.execute_input": "2023-04-18T16:14:25.163251Z",
     "iopub.status.busy": "2023-04-18T16:14:25.162802Z",
     "iopub.status.idle": "2023-04-18T16:14:25.168487Z",
     "shell.execute_reply": "2023-04-18T16:14:25.167605Z"
    },
    "papermill": {
     "duration": 0.060129,
     "end_time": "2023-04-18T16:14:25.171157",
     "exception": false,
     "start_time": "2023-04-18T16:14:25.111028",
     "status": "completed"
    },
    "tags": []
   },
   "outputs": [],
   "source": [
    "NUM_BRANDS = 4000\n",
    "NUM_CATEGORIES = 1000\n",
    "NAME_MIN_DF = 10\n",
    "MAX_FEATURES_ITEM_DESCRIPTION = 500000"
   ]
  },
  {
   "cell_type": "code",
   "execution_count": 13,
   "id": "e9bd3d1e",
   "metadata": {
    "execution": {
     "iopub.execute_input": "2023-04-18T16:14:25.246617Z",
     "iopub.status.busy": "2023-04-18T16:14:25.245717Z",
     "iopub.status.idle": "2023-04-18T16:14:25.319305Z",
     "shell.execute_reply": "2023-04-18T16:14:25.316801Z"
    },
    "papermill": {
     "duration": 0.11333,
     "end_time": "2023-04-18T16:14:25.322802",
     "exception": false,
     "start_time": "2023-04-18T16:14:25.209472",
     "status": "completed"
    },
    "tags": []
   },
   "outputs": [
    {
     "data": {
      "text/plain": [
       "5083"
      ]
     },
     "execution_count": 13,
     "metadata": {},
     "output_type": "execute_result"
    }
   ],
   "source": [
    "train['category_name'].isnull().sum()"
   ]
  },
  {
   "cell_type": "code",
   "execution_count": 14,
   "id": "7fe20cd4",
   "metadata": {
    "execution": {
     "iopub.execute_input": "2023-04-18T16:14:25.406484Z",
     "iopub.status.busy": "2023-04-18T16:14:25.405255Z",
     "iopub.status.idle": "2023-04-18T16:14:25.487056Z",
     "shell.execute_reply": "2023-04-18T16:14:25.486112Z"
    },
    "papermill": {
     "duration": 0.147863,
     "end_time": "2023-04-18T16:14:25.489701",
     "exception": false,
     "start_time": "2023-04-18T16:14:25.341838",
     "status": "completed"
    },
    "tags": []
   },
   "outputs": [
    {
     "data": {
      "text/plain": [
       "506058"
      ]
     },
     "execution_count": 14,
     "metadata": {},
     "output_type": "execute_result"
    }
   ],
   "source": [
    "train['brand_name'].isnull().sum()"
   ]
  },
  {
   "cell_type": "code",
   "execution_count": 15,
   "id": "21145542",
   "metadata": {
    "execution": {
     "iopub.execute_input": "2023-04-18T16:14:25.591987Z",
     "iopub.status.busy": "2023-04-18T16:14:25.590324Z",
     "iopub.status.idle": "2023-04-18T16:14:25.843241Z",
     "shell.execute_reply": "2023-04-18T16:14:25.842194Z"
    },
    "papermill": {
     "duration": 0.320232,
     "end_time": "2023-04-18T16:14:25.846324",
     "exception": false,
     "start_time": "2023-04-18T16:14:25.526092",
     "status": "completed"
    },
    "tags": []
   },
   "outputs": [
    {
     "data": {
      "text/plain": [
       "3"
      ]
     },
     "execution_count": 15,
     "metadata": {},
     "output_type": "execute_result"
    }
   ],
   "source": [
    "train['item_description'].isnull().sum()"
   ]
  },
  {
   "cell_type": "code",
   "execution_count": 16,
   "id": "d18c98a7",
   "metadata": {
    "execution": {
     "iopub.execute_input": "2023-04-18T16:14:25.916816Z",
     "iopub.status.busy": "2023-04-18T16:14:25.916345Z",
     "iopub.status.idle": "2023-04-18T16:14:25.927578Z",
     "shell.execute_reply": "2023-04-18T16:14:25.926239Z"
    },
    "papermill": {
     "duration": 0.068437,
     "end_time": "2023-04-18T16:14:25.930322",
     "exception": false,
     "start_time": "2023-04-18T16:14:25.861885",
     "status": "completed"
    },
    "tags": []
   },
   "outputs": [
    {
     "data": {
      "text/plain": [
       "0"
      ]
     },
     "execution_count": 16,
     "metadata": {},
     "output_type": "execute_result"
    }
   ],
   "source": [
    "train['price'].isnull().sum()"
   ]
  },
  {
   "cell_type": "code",
   "execution_count": 17,
   "id": "b60c835f",
   "metadata": {
    "execution": {
     "iopub.execute_input": "2023-04-18T16:14:25.965958Z",
     "iopub.status.busy": "2023-04-18T16:14:25.965080Z",
     "iopub.status.idle": "2023-04-18T16:14:25.975121Z",
     "shell.execute_reply": "2023-04-18T16:14:25.974011Z"
    },
    "papermill": {
     "duration": 0.032647,
     "end_time": "2023-04-18T16:14:25.977682",
     "exception": false,
     "start_time": "2023-04-18T16:14:25.945035",
     "status": "completed"
    },
    "tags": []
   },
   "outputs": [
    {
     "data": {
      "text/plain": [
       "0"
      ]
     },
     "execution_count": 17,
     "metadata": {},
     "output_type": "execute_result"
    }
   ],
   "source": [
    "train['item_condition_id'].isnull().sum()"
   ]
  },
  {
   "cell_type": "code",
   "execution_count": 18,
   "id": "ca5fad0a",
   "metadata": {
    "execution": {
     "iopub.execute_input": "2023-04-18T16:14:26.009875Z",
     "iopub.status.busy": "2023-04-18T16:14:26.009019Z",
     "iopub.status.idle": "2023-04-18T16:14:26.018829Z",
     "shell.execute_reply": "2023-04-18T16:14:26.017759Z"
    },
    "papermill": {
     "duration": 0.028995,
     "end_time": "2023-04-18T16:14:26.021493",
     "exception": false,
     "start_time": "2023-04-18T16:14:25.992498",
     "status": "completed"
    },
    "tags": []
   },
   "outputs": [],
   "source": [
    "def heandel_missing_inplace(dataset):\n",
    "    dataset['category_name'].fillna(value='missing', inplace=True)\n",
    "    dataset['brand_name'].fillna(value='missing', inplace=True)\n",
    "    dataset['item_description'].replace('No description yet,''missing', inplace=True)\n",
    "    dataset['item_description'].fillna(value='missing', inplace=True)\n",
    "    \n",
    "    \n",
    "def cutting(dataset):\n",
    "    pop_brand = dataset['brand_name'].value_counts().loc[lambda x: x.index != 'missing'].index[:NUM_BRANDS]\n",
    "    dataset.loc[~dataset['brand_name'].isin(pop_brand), 'brand_name'] = 'missing'\n",
    "    pop_category = dataset['category_name'].value_counts().loc[lambda x: x.index != 'missing'].index[:NUM_CATEGORIES]\n",
    "\n",
    "    \n",
    "def to_categorical(dataset):\n",
    "    dataset['category_name'] = dataset['category_name'].astype('category')\n",
    "    dataset['brand_name'] = dataset['brand_name'].astype('category')\n",
    "    dataset['item_condition_id'] = dataset['item_condition_id'].astype('category')"
   ]
  },
  {
   "cell_type": "code",
   "execution_count": 19,
   "id": "71317c7a",
   "metadata": {
    "execution": {
     "iopub.execute_input": "2023-04-18T16:14:26.053875Z",
     "iopub.status.busy": "2023-04-18T16:14:26.052976Z",
     "iopub.status.idle": "2023-04-18T16:14:33.058225Z",
     "shell.execute_reply": "2023-04-18T16:14:33.056934Z"
    },
    "papermill": {
     "duration": 7.025008,
     "end_time": "2023-04-18T16:14:33.061408",
     "exception": false,
     "start_time": "2023-04-18T16:14:26.036400",
     "status": "completed"
    },
    "tags": []
   },
   "outputs": [],
   "source": [
    "df = pd.read_csv(\"train.tsv\", sep = '\\t')\n",
    "msk = np.random.rand(len(df)) < 0.8\n",
    "train = df[msk]\n",
    "test = df[~msk]\n",
    "test_new = test.drop('price', axis=1)\n",
    "y_test = np.log1p(test[\"price\"])\n",
    "train = train[train.price !=0].reset_index(drop=True)"
   ]
  },
  {
   "cell_type": "code",
   "execution_count": 20,
   "id": "a0dc4fec",
   "metadata": {
    "execution": {
     "iopub.execute_input": "2023-04-18T16:14:33.094251Z",
     "iopub.status.busy": "2023-04-18T16:14:33.093845Z",
     "iopub.status.idle": "2023-04-18T16:14:33.521969Z",
     "shell.execute_reply": "2023-04-18T16:14:33.520511Z"
    },
    "papermill": {
     "duration": 0.448023,
     "end_time": "2023-04-18T16:14:33.524815",
     "exception": false,
     "start_time": "2023-04-18T16:14:33.076792",
     "status": "completed"
    },
    "tags": []
   },
   "outputs": [],
   "source": [
    "nrow_train = train.shape[0]\n",
    "y = np.log1p(train[\"price\"])\n",
    "merge: pd.DataFrame = pd.concat([train, test_new])"
   ]
  },
  {
   "cell_type": "code",
   "execution_count": 21,
   "id": "d9c156af",
   "metadata": {
    "execution": {
     "iopub.execute_input": "2023-04-18T16:14:33.556709Z",
     "iopub.status.busy": "2023-04-18T16:14:33.556194Z",
     "iopub.status.idle": "2023-04-18T16:14:34.780963Z",
     "shell.execute_reply": "2023-04-18T16:14:34.779335Z"
    },
    "papermill": {
     "duration": 1.244401,
     "end_time": "2023-04-18T16:14:34.784175",
     "exception": false,
     "start_time": "2023-04-18T16:14:33.539774",
     "status": "completed"
    },
    "tags": []
   },
   "outputs": [],
   "source": [
    "heandel_missing_inplace(merge)\n",
    "cutting(merge)\n",
    "to_categorical(merge)"
   ]
  },
  {
   "cell_type": "code",
   "execution_count": 22,
   "id": "0cdb539a",
   "metadata": {
    "execution": {
     "iopub.execute_input": "2023-04-18T16:14:34.816617Z",
     "iopub.status.busy": "2023-04-18T16:14:34.816154Z",
     "iopub.status.idle": "2023-04-18T16:14:54.727212Z",
     "shell.execute_reply": "2023-04-18T16:14:54.726027Z"
    },
    "papermill": {
     "duration": 19.930762,
     "end_time": "2023-04-18T16:14:54.730181",
     "exception": false,
     "start_time": "2023-04-18T16:14:34.799419",
     "status": "completed"
    },
    "tags": []
   },
   "outputs": [],
   "source": [
    "cv = CountVectorizer(min_df=NAME_MIN_DF)\n",
    "x_name = cv.fit_transform(merge['name'])\n",
    "cv = CountVectorizer()\n",
    "x_category = cv.fit_transform(merge['category_name'])"
   ]
  },
  {
   "cell_type": "code",
   "execution_count": 23,
   "id": "4f0fff36",
   "metadata": {
    "execution": {
     "iopub.execute_input": "2023-04-18T16:14:54.762341Z",
     "iopub.status.busy": "2023-04-18T16:14:54.761909Z",
     "iopub.status.idle": "2023-04-18T16:18:41.216623Z",
     "shell.execute_reply": "2023-04-18T16:18:41.214212Z"
    },
    "papermill": {
     "duration": 226.477211,
     "end_time": "2023-04-18T16:18:41.222659",
     "exception": false,
     "start_time": "2023-04-18T16:14:54.745448",
     "status": "completed"
    },
    "tags": []
   },
   "outputs": [],
   "source": [
    "tv = TfidfVectorizer(max_features=MAX_FEATURES_ITEM_DESCRIPTION, ngram_range=(1, 3), stop_words='english')\n",
    "X_description = tv.fit_transform(merge['item_description'])"
   ]
  },
  {
   "cell_type": "code",
   "execution_count": 24,
   "id": "ee40f1d8",
   "metadata": {
    "execution": {
     "iopub.execute_input": "2023-04-18T16:18:41.264620Z",
     "iopub.status.busy": "2023-04-18T16:18:41.263760Z",
     "iopub.status.idle": "2023-04-18T16:20:22.279951Z",
     "shell.execute_reply": "2023-04-18T16:20:22.277410Z"
    },
    "papermill": {
     "duration": 101.042556,
     "end_time": "2023-04-18T16:20:22.285816",
     "exception": false,
     "start_time": "2023-04-18T16:18:41.243260",
     "status": "completed"
    },
    "tags": []
   },
   "outputs": [],
   "source": [
    "lb = LabelBinarizer(sparse_output=True)\n",
    "X_brand = lb.fit_transform(merge['brand_name'])"
   ]
  },
  {
   "cell_type": "code",
   "execution_count": 25,
   "id": "523c5e11",
   "metadata": {
    "execution": {
     "iopub.execute_input": "2023-04-18T16:20:22.324293Z",
     "iopub.status.busy": "2023-04-18T16:20:22.323773Z",
     "iopub.status.idle": "2023-04-18T16:20:23.533829Z",
     "shell.execute_reply": "2023-04-18T16:20:23.532319Z"
    },
    "papermill": {
     "duration": 1.231583,
     "end_time": "2023-04-18T16:20:23.537064",
     "exception": false,
     "start_time": "2023-04-18T16:20:22.305481",
     "status": "completed"
    },
    "tags": []
   },
   "outputs": [],
   "source": [
    "X_dummies = csr_matrix(pd.get_dummies(merge[['item_condition_id', 'shipping']], sparse=True).values)"
   ]
  },
  {
   "cell_type": "code",
   "execution_count": 26,
   "id": "980e6b15",
   "metadata": {
    "execution": {
     "iopub.execute_input": "2023-04-18T16:20:23.569344Z",
     "iopub.status.busy": "2023-04-18T16:20:23.568928Z",
     "iopub.status.idle": "2023-04-18T16:20:29.703422Z",
     "shell.execute_reply": "2023-04-18T16:20:29.702089Z"
    },
    "papermill": {
     "duration": 6.154575,
     "end_time": "2023-04-18T16:20:29.706721",
     "exception": false,
     "start_time": "2023-04-18T16:20:23.552146",
     "status": "completed"
    },
    "tags": []
   },
   "outputs": [],
   "source": [
    "sparse_merge = hstack((X_dummies, X_description, X_brand, x_category, x_name)).tocsr()"
   ]
  },
  {
   "cell_type": "code",
   "execution_count": 27,
   "id": "37a2b344",
   "metadata": {
    "execution": {
     "iopub.execute_input": "2023-04-18T16:20:29.739354Z",
     "iopub.status.busy": "2023-04-18T16:20:29.738932Z",
     "iopub.status.idle": "2023-04-18T16:20:31.902616Z",
     "shell.execute_reply": "2023-04-18T16:20:31.901255Z"
    },
    "papermill": {
     "duration": 2.183188,
     "end_time": "2023-04-18T16:20:31.905633",
     "exception": false,
     "start_time": "2023-04-18T16:20:29.722445",
     "status": "completed"
    },
    "tags": []
   },
   "outputs": [],
   "source": [
    "mask = np.array(np.clip(sparse_merge.getnnz(axis=0) -1, 0, 1), dtype=bool)\n",
    "sparse_merge = sparse_merge[:, mask]"
   ]
  },
  {
   "cell_type": "code",
   "execution_count": 28,
   "id": "81643aac",
   "metadata": {
    "execution": {
     "iopub.execute_input": "2023-04-18T16:20:31.938580Z",
     "iopub.status.busy": "2023-04-18T16:20:31.938139Z",
     "iopub.status.idle": "2023-04-18T16:20:34.018850Z",
     "shell.execute_reply": "2023-04-18T16:20:34.017488Z"
    },
    "papermill": {
     "duration": 2.100845,
     "end_time": "2023-04-18T16:20:34.022236",
     "exception": false,
     "start_time": "2023-04-18T16:20:31.921391",
     "status": "completed"
    },
    "tags": []
   },
   "outputs": [],
   "source": [
    "X = sparse_merge[:nrow_train]\n",
    "X_test = sparse_merge[nrow_train:]"
   ]
  },
  {
   "cell_type": "code",
   "execution_count": 29,
   "id": "892754d5",
   "metadata": {
    "execution": {
     "iopub.execute_input": "2023-04-18T16:20:34.054959Z",
     "iopub.status.busy": "2023-04-18T16:20:34.054254Z",
     "iopub.status.idle": "2023-04-18T16:20:34.061769Z",
     "shell.execute_reply": "2023-04-18T16:20:34.059806Z"
    },
    "papermill": {
     "duration": 0.027968,
     "end_time": "2023-04-18T16:20:34.065157",
     "exception": false,
     "start_time": "2023-04-18T16:20:34.037189",
     "status": "completed"
    },
    "tags": []
   },
   "outputs": [],
   "source": [
    "train_X =lgb.Dataset(X, label=y)"
   ]
  },
  {
   "cell_type": "code",
   "execution_count": 30,
   "id": "0e40cabe",
   "metadata": {
    "execution": {
     "iopub.execute_input": "2023-04-18T16:20:34.098205Z",
     "iopub.status.busy": "2023-04-18T16:20:34.097775Z",
     "iopub.status.idle": "2023-04-18T16:20:34.104317Z",
     "shell.execute_reply": "2023-04-18T16:20:34.102988Z"
    },
    "papermill": {
     "duration": 0.025659,
     "end_time": "2023-04-18T16:20:34.106962",
     "exception": false,
     "start_time": "2023-04-18T16:20:34.081303",
     "status": "completed"
    },
    "tags": []
   },
   "outputs": [],
   "source": [
    "params = {\n",
    "    'learning_rate': 0.75,\n",
    "    'application': 'regression',\n",
    "    'max_depth': 3,\n",
    "    'num_leaves': 100,\n",
    "    'verbosity': -1,\n",
    "    'metric': 'RMSE',\n",
    "}"
   ]
  },
  {
   "cell_type": "code",
   "execution_count": 31,
   "id": "0a186928",
   "metadata": {
    "execution": {
     "iopub.execute_input": "2023-04-18T16:20:34.138983Z",
     "iopub.status.busy": "2023-04-18T16:20:34.138273Z",
     "iopub.status.idle": "2023-04-18T20:38:07.786650Z",
     "shell.execute_reply": "2023-04-18T20:38:07.784030Z"
    },
    "papermill": {
     "duration": 15453.669099,
     "end_time": "2023-04-18T20:38:07.791021",
     "exception": false,
     "start_time": "2023-04-18T16:20:34.121922",
     "status": "completed"
    },
    "tags": []
   },
   "outputs": [
    {
     "name": "stderr",
     "output_type": "stream",
     "text": [
      "/opt/conda/lib/python3.7/site-packages/lightgbm/engine.py:239: UserWarning: 'verbose_eval' argument is deprecated and will be removed in a future release of LightGBM. Pass 'log_evaluation()' callback via 'callbacks' argument instead.\n",
      "  _log_warning(\"'verbose_eval' argument is deprecated and will be removed in a future release of LightGBM. \"\n"
     ]
    }
   ],
   "source": [
    "gbm = lgb.train(params, train_set=train_X, num_boost_round=3200,verbose_eval=100)"
   ]
  },
  {
   "cell_type": "code",
   "execution_count": 32,
   "id": "110ec913",
   "metadata": {
    "execution": {
     "iopub.execute_input": "2023-04-18T20:38:07.825706Z",
     "iopub.status.busy": "2023-04-18T20:38:07.825213Z",
     "iopub.status.idle": "2023-04-18T20:39:35.044743Z",
     "shell.execute_reply": "2023-04-18T20:39:35.043625Z"
    },
    "papermill": {
     "duration": 87.239967,
     "end_time": "2023-04-18T20:39:35.047775",
     "exception": false,
     "start_time": "2023-04-18T20:38:07.807808",
     "status": "completed"
    },
    "tags": []
   },
   "outputs": [],
   "source": [
    "y_pred = gbm.predict(X_test, num_iteration=gbm.best_iteration)"
   ]
  },
  {
   "cell_type": "code",
   "execution_count": 33,
   "id": "288e9749",
   "metadata": {
    "execution": {
     "iopub.execute_input": "2023-04-18T20:39:35.081250Z",
     "iopub.status.busy": "2023-04-18T20:39:35.079843Z",
     "iopub.status.idle": "2023-04-18T20:39:35.100132Z",
     "shell.execute_reply": "2023-04-18T20:39:35.098633Z"
    },
    "papermill": {
     "duration": 0.039947,
     "end_time": "2023-04-18T20:39:35.103033",
     "exception": false,
     "start_time": "2023-04-18T20:39:35.063086",
     "status": "completed"
    },
    "tags": []
   },
   "outputs": [
    {
     "data": {
      "text/plain": [
       "0.2143398489956353"
      ]
     },
     "execution_count": 33,
     "metadata": {},
     "output_type": "execute_result"
    }
   ],
   "source": [
    "mean_squared_error(y_test, y_pred)"
   ]
  },
  {
   "cell_type": "code",
   "execution_count": null,
   "id": "d7983dbb",
   "metadata": {
    "papermill": {
     "duration": 0.01486,
     "end_time": "2023-04-18T20:39:35.133181",
     "exception": false,
     "start_time": "2023-04-18T20:39:35.118321",
     "status": "completed"
    },
    "tags": []
   },
   "outputs": [],
   "source": []
  },
  {
   "cell_type": "code",
   "execution_count": null,
   "id": "e9233fe3",
   "metadata": {
    "papermill": {
     "duration": 0.015004,
     "end_time": "2023-04-18T20:39:35.163722",
     "exception": false,
     "start_time": "2023-04-18T20:39:35.148718",
     "status": "completed"
    },
    "tags": []
   },
   "outputs": [],
   "source": []
  },
  {
   "cell_type": "code",
   "execution_count": null,
   "id": "ff05f12f",
   "metadata": {
    "papermill": {
     "duration": 0.014681,
     "end_time": "2023-04-18T20:39:35.193772",
     "exception": false,
     "start_time": "2023-04-18T20:39:35.179091",
     "status": "completed"
    },
    "tags": []
   },
   "outputs": [],
   "source": []
  },
  {
   "cell_type": "code",
   "execution_count": null,
   "id": "a254a788",
   "metadata": {
    "papermill": {
     "duration": 0.014594,
     "end_time": "2023-04-18T20:39:35.223325",
     "exception": false,
     "start_time": "2023-04-18T20:39:35.208731",
     "status": "completed"
    },
    "tags": []
   },
   "outputs": [],
   "source": []
  },
  {
   "cell_type": "code",
   "execution_count": null,
   "id": "389e28ac",
   "metadata": {
    "papermill": {
     "duration": 0.014986,
     "end_time": "2023-04-18T20:39:35.253333",
     "exception": false,
     "start_time": "2023-04-18T20:39:35.238347",
     "status": "completed"
    },
    "tags": []
   },
   "outputs": [],
   "source": []
  },
  {
   "cell_type": "code",
   "execution_count": null,
   "id": "15f31d6b",
   "metadata": {
    "papermill": {
     "duration": 0.014809,
     "end_time": "2023-04-18T20:39:35.283107",
     "exception": false,
     "start_time": "2023-04-18T20:39:35.268298",
     "status": "completed"
    },
    "tags": []
   },
   "outputs": [],
   "source": []
  }
 ],
 "metadata": {
  "kernelspec": {
   "display_name": "Python 3",
   "language": "python",
   "name": "python3"
  },
  "language_info": {
   "codemirror_mode": {
    "name": "ipython",
    "version": 3
   },
   "file_extension": ".py",
   "mimetype": "text/x-python",
   "name": "python",
   "nbconvert_exporter": "python",
   "pygments_lexer": "ipython3",
   "version": "3.7.12"
  },
  "papermill": {
   "default_parameters": {},
   "duration": 15962.898077,
   "end_time": "2023-04-18T20:39:38.667311",
   "environment_variables": {},
   "exception": null,
   "input_path": "__notebook__.ipynb",
   "output_path": "__notebook__.ipynb",
   "parameters": {},
   "start_time": "2023-04-18T16:13:35.769234",
   "version": "2.4.0"
  }
 },
 "nbformat": 4,
 "nbformat_minor": 5
}
